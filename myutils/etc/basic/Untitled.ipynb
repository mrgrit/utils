{
 "cells": [
  {
   "cell_type": "code",
   "execution_count": 5,
   "metadata": {},
   "outputs": [],
   "source": [
    "import tensorflow as tf\n",
    "import numpy as np"
   ]
  },
  {
   "cell_type": "code",
   "execution_count": 67,
   "metadata": {},
   "outputs": [
    {
     "name": "stdout",
     "output_type": "stream",
     "text": [
      "[7497, 5052, 4097, 3615, 6493, 18944, 9153, 12155, 11128, 10397, 12318, 24980, 9507, 12826, 17888, 7565, 5708, 5113, 5218, 11420, 4989, 4395, 4766, 4688, 9711, 4877, 5020, 4705, 4754, 11698, 9186]\n",
      "[10293, 8587, 6971, 5675, 7381, 13969, 11111, 13325, 13963, 13977, 16707, 29896, 13806, 16032, 21695, 14050, 6373, 8146, 5934, 13869, 6769, 11278, 7748, 14115, 12900, 7839, 8074, 20703, 8320, 20630, 12805]\n",
      "0 2.28093e+08 [ 2.73912692] [-0.63944852]\n",
      "200 1.57171e+08 [ 2.47068644] [-0.634835]\n",
      "400 1.10031e+08 [ 2.25183749] [-0.63021708]\n",
      "600 7.8699e+07 [ 2.07341719] [-0.62559569]\n",
      "800 5.78725e+07 [ 1.92795241] [-0.62097126]\n",
      "1000 4.40291e+07 [ 1.80935383] [-0.61634439]\n",
      "1200 3.48279e+07 [ 1.71266544] [-0.61171603]\n",
      "1400 2.8712e+07 [ 1.63383651] [-0.60708547]\n",
      "1600 2.46468e+07 [ 1.56956816] [-0.60245407]\n",
      "1800 2.19448e+07 [ 1.51717329] [-0.59782165]\n",
      "2000 2.01488e+07 [ 1.47445536] [-0.59318823]\n",
      "[ 8070.57519531]\n"
     ]
    }
   ],
   "source": [
    "f = open('result.txt','r')\n",
    "lines = f.readlines()\n",
    "time = []\n",
    "logs = []\n",
    "x = []\n",
    "test = []\n",
    "for line in lines:\n",
    "    line = line.split('|')    \n",
    "    x=int(line[1])+int(line[2].strip('\\n'))\n",
    "    logs.append(x)    \n",
    "    time.append(int(line[0]))  \n",
    "\n",
    "X = tf.placeholder(tf.float32,shape=[None])\n",
    "y = tf.placeholder(tf.float32,shape=[None])\n",
    "    \n",
    "W = tf.Variable(tf.random_normal([1]),name='weight')\n",
    "b = tf.Variable(tf.random_normal([1]),name='bias')\n",
    "\n",
    "hypothesis = X*W+b\n",
    "\n",
    "cost = tf.reduce_mean(tf.square(hypothesis - y))\n",
    "optimizer = tf.train.GradientDescentOptimizer(learning_rate = 0.00000001)\n",
    "train = optimizer.minimize(cost)\n",
    "with tf.Session() as sess:\n",
    "    sess.run(tf.global_variables_initializer())\n",
    "    print(logs)\n",
    "    print(time)\n",
    "    for step in range(2001):\n",
    "        cost_val,W_val,b_val,_ = sess.run([cost,W,b,train],feed_dict={X:logs, y:time})\n",
    "        #sess.run(optimizer,feed_dict={X:logs, y:time})\n",
    "        \n",
    "        if step % 200 ==0:\n",
    "            print(step, cost_val, W_val, b_val)\n",
    "        \n",
    "    print(sess.run(hypothesis, feed_dict={X:[5474]}))"
   ]
  },
  {
   "cell_type": "code",
   "execution_count": null,
   "metadata": {},
   "outputs": [],
   "source": []
  }
 ],
 "metadata": {
  "kernelspec": {
   "display_name": "Python 3",
   "language": "python",
   "name": "python3"
  },
  "language_info": {
   "codemirror_mode": {
    "name": "ipython",
    "version": 3
   },
   "file_extension": ".py",
   "mimetype": "text/x-python",
   "name": "python",
   "nbconvert_exporter": "python",
   "pygments_lexer": "ipython3",
   "version": "3.5.3"
  }
 },
 "nbformat": 4,
 "nbformat_minor": 2
}
