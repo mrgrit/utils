{
 "cells": [
  {
   "cell_type": "code",
   "execution_count": 1,
   "metadata": {},
   "outputs": [],
   "source": [
    "import tensorflow as tf\n",
    "import numpy as np"
   ]
  },
  {
   "cell_type": "code",
   "execution_count": 5,
   "metadata": {},
   "outputs": [
    {
     "name": "stdout",
     "output_type": "stream",
     "text": [
      "0 7.24176e+07 [-0.66457772]\n",
      "2000 1.52782e+07 [-0.66399693]\n",
      "4000 1.50381e+07 [-0.6635201]\n",
      "6000 1.48341e+07 [-0.66304326]\n",
      "8000 1.46606e+07 [-0.66256642]\n",
      "10000 1.45131e+07 [-0.66209757]\n",
      "12000 1.43878e+07 [-0.66173995]\n",
      "14000 1.42813e+07 [-0.66138232]\n",
      "16000 1.41907e+07 [-0.66102469]\n",
      "18000 1.41137e+07 [-0.66066706]\n",
      "20000 1.40483e+07 [-0.66030943]\n",
      "22000 1.39927e+07 [-0.65995181]\n",
      "24000 1.39454e+07 [-0.65959418]\n",
      "26000 1.39052e+07 [-0.65923655]\n",
      "28000 1.38711e+07 [-0.65887892]\n",
      "30000 1.38421e+07 [-0.65852129]\n",
      "32000 1.38174e+07 [-0.65816367]\n",
      "34000 1.37964e+07 [-0.65780604]\n",
      "36000 1.37786e+07 [-0.65744841]\n",
      "38000 1.37634e+07 [-0.65709078]\n",
      "40000 1.37505e+07 [-0.65673316]\n",
      "42000 1.37396e+07 [-0.65637553]\n",
      "44000 1.37303e+07 [-0.6560179]\n",
      "46000 1.37224e+07 [-0.65566027]\n",
      "48000 1.37156e+07 [-0.65530264]\n",
      "50000 1.37099e+07 [-0.65494502]\n",
      "52000 1.37051e+07 [-0.65458739]\n",
      "54000 1.37009e+07 [-0.65422976]\n",
      "56000 1.36974e+07 [-0.65387213]\n",
      "58000 1.36944e+07 [-0.6535145]\n",
      "60000 1.36919e+07 [-0.65315688]\n",
      "[ 31089.65625]\n"
     ]
    }
   ],
   "source": [
    "f = open('result.txt','r')\n",
    "lines = f.readlines()\n",
    "x1_data = []\n",
    "x2_data = []\n",
    "y_data = []\n",
    "\n",
    "for line in lines:\n",
    "    line = line.split('|')    \n",
    "    x1_data.append(int(line[1]))\n",
    "    x2_data.append(int(line[2].strip('\\n')))\n",
    "    \n",
    "    y_data.append(int(line[0]))  \n",
    "\n",
    "x1 = tf.placeholder(tf.float32)\n",
    "x2 = tf.placeholder(tf.float32)\n",
    "y = tf.placeholder(tf.float32)\n",
    "    \n",
    "w1 = tf.Variable(tf.random_normal([1]),name='weight1')\n",
    "w2 = tf.Variable(tf.random_normal([1]),name='weight2')\n",
    "b = tf.Variable(tf.random_normal([1]),name='bias')\n",
    "\n",
    "hypothesis = x1*w1+x2*w2+b\n",
    "\n",
    "cost = tf.reduce_mean(tf.square(hypothesis - y))\n",
    "optimizer = tf.train.GradientDescentOptimizer(learning_rate = 1e-10)\n",
    "train = optimizer.minimize(cost)\n",
    "with tf.Session() as sess:\n",
    "    sess.run(tf.global_variables_initializer())   \n",
    "    for step in range(60001):\n",
    "        cost_val,b_val,_ = sess.run([cost,b,train],feed_dict={x1:x1_data,x2:x2_data,y:y_data})       \n",
    "        if step % 2000 ==0:\n",
    "            print(step, cost_val, b_val)\n",
    "        \n",
    "    print(sess.run(hypothesis, feed_dict={x1:[81421],x2:[3249]}))\n",
    "    "
   ]
  }
 ],
 "metadata": {
  "kernelspec": {
   "display_name": "Python 3",
   "language": "python",
   "name": "python3"
  },
  "language_info": {
   "codemirror_mode": {
    "name": "ipython",
    "version": 3
   },
   "file_extension": ".py",
   "mimetype": "text/x-python",
   "name": "python",
   "nbconvert_exporter": "python",
   "pygments_lexer": "ipython3",
   "version": "3.5.3"
  }
 },
 "nbformat": 4,
 "nbformat_minor": 2
}
