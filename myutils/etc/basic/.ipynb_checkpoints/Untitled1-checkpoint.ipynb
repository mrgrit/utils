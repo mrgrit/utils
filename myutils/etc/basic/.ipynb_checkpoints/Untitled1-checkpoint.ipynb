{
 "cells": [
  {
   "cell_type": "code",
   "execution_count": 1,
   "metadata": {},
   "outputs": [],
   "source": [
    "import tensorflow as tf\n",
    "import numpy as np"
   ]
  },
  {
   "cell_type": "code",
   "execution_count": 2,
   "metadata": {},
   "outputs": [
    {
     "name": "stdout",
     "output_type": "stream",
     "text": [
      "0 4.22062e+08 [-1.49159229]\n",
      "2000 1.4625e+07 [-1.48666131]\n",
      "4000 1.38651e+07 [-1.48270631]\n",
      "6000 1.37155e+07 [-1.47907555]\n",
      "8000 1.36861e+07 [-1.47549927]\n",
      "10000 1.36803e+07 [-1.47213757]\n",
      "12000 1.36791e+07 [-1.46879971]\n",
      "14000 1.36789e+07 [-1.46546185]\n",
      "16000 1.36789e+07 [-1.46212399]\n",
      "18000 1.36789e+07 [-1.45878613]\n",
      "20000 1.36788e+07 [-1.45544827]\n",
      "[ 8292.15234375]\n"
     ]
    }
   ],
   "source": [
    "f = open('result.txt','r')\n",
    "lines = f.readlines()\n",
    "x1_data = []\n",
    "x2_data = []\n",
    "y_data = []\n",
    "\n",
    "for line in lines:\n",
    "    line = line.split('|')    \n",
    "    x1_data.append(int(line[1]))\n",
    "    x2_data.append(int(line[2].strip('\\n')))\n",
    "    \n",
    "    y_data.append(int(line[0]))  \n",
    "\n",
    "x1 = tf.placeholder(tf.float32)\n",
    "x2 = tf.placeholder(tf.float32)\n",
    "y = tf.placeholder(tf.float32)\n",
    "    \n",
    "w1 = tf.Variable(tf.random_normal([1]),name='weight1')\n",
    "w2 = tf.Variable(tf.random_normal([1]),name='weight2')\n",
    "b = tf.Variable(tf.random_normal([1]),name='bias')\n",
    "\n",
    "hypothesis = x1*w1+x2*w2+b\n",
    "\n",
    "cost = tf.reduce_mean(tf.square(hypothesis - y))\n",
    "optimizer = tf.train.GradientDescentOptimizer(learning_rate = 1e-10)\n",
    "train = optimizer.minimize(cost)\n",
    "with tf.Session() as sess:\n",
    "    sess.run(tf.global_variables_initializer())   \n",
    "    for step in range(20001):\n",
    "        cost_val,b_val,_ = sess.run([cost,b,train],feed_dict={x1:x1_data,x2:x2_data,y:y_data})       \n",
    "        if step % 2000 ==0:\n",
    "            print(step, cost_val, b_val)\n",
    "        \n",
    "    print(sess.run(hypothesis, feed_dict={x1:[4001],x2:[1707]}))\n",
    "    "
   ]
  }
 ],
 "metadata": {
  "kernelspec": {
   "display_name": "Python 3",
   "language": "python",
   "name": "python3"
  },
  "language_info": {
   "codemirror_mode": {
    "name": "ipython",
    "version": 3
   },
   "file_extension": ".py",
   "mimetype": "text/x-python",
   "name": "python",
   "nbconvert_exporter": "python",
   "pygments_lexer": "ipython3",
   "version": "3.5.3"
  }
 },
 "nbformat": 4,
 "nbformat_minor": 2
}
